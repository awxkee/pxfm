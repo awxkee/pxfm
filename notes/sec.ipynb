{
 "cells": [
  {
   "cell_type": "code",
   "execution_count": 8,
   "id": "d1c368c9-c0f8-4873-b4d3-9d90f741dddd",
   "metadata": {},
   "outputs": [
    {
     "name": "stdout",
     "output_type": "stream",
     "text": [
      "0x3fe0000000000000\n",
      "0x3fcaaaaaaaaaaaab\n",
      "0x3fb5b05b05b05b06\n",
      "0x3fa1965965965966\n",
      "0x3f8c834283cd3723\n",
      "0x3f771c9634451939\n",
      "0x3f62bbcea738201f\n"
     ]
    }
   ],
   "source": [
    "from sage.all import *\n",
    "import struct\n",
    "\n",
    "DR = RealField(53)\n",
    "DD = RealField(190)\n",
    "\n",
    "def float_to_hex(f):\n",
    "    packed = struct.pack('>f', float(f))\n",
    "    return '0x' + packed.hex()\n",
    "\n",
    "\n",
    "def double_to_hex(f):\n",
    "    packed = struct.pack('>d', float(f))\n",
    "    return '0x' + packed.hex()\n",
    "\n",
    "print(double_to_hex(DD(1)/DD(2)))\n",
    "print(double_to_hex(DD(5)/DD(24)))\n",
    "print(double_to_hex(DD(61)/DD(720)))\n",
    "print(double_to_hex(DD(277)/DD(8064)))\n",
    "print(double_to_hex(DD(50521)/DD(3628800)))\n",
    "print(double_to_hex(DD('540553')/DD('95800320')))\n",
    "print(double_to_hex(DD('199360981')/DD('87178291200')))"
   ]
  },
  {
   "cell_type": "code",
   "execution_count": 6,
   "id": "70be4e15-defd-4c5e-b915-4c0cd90a952f",
   "metadata": {},
   "outputs": [
    {
     "name": "stdout",
     "output_type": "stream",
     "text": [
      "Order 6: 0.004\n",
      "Order 8: 0.013000000000000005\n",
      "Order 10: 0.03000000000000002\n",
      "Order 12: 0.05300000000000004\n",
      "Order 14: 0.08100000000000006\n"
     ]
    }
   ],
   "source": [
    "# test max cutoff for direct evaluation\n",
    "from mpmath import mp, sec, taylor, mpf\n",
    "\n",
    "mp.dps = 50 \n",
    "true_sec = lambda x: sec(x)\n",
    "approx_sec = lambda x, n: sum(c * mpf(x)**i for i, c in enumerate(taylor(sec, 0, n+1)))\n",
    "\n",
    "def max_x_for_order(n, max_rel_error=2**-68):\n",
    "    x = 0.0\n",
    "    step = 0.001\n",
    "    while True:\n",
    "        x += step\n",
    "        exact = true_sec(x)\n",
    "        approx = approx_sec(x, n)\n",
    "        rel_error = abs((approx - exact) / exact)\n",
    "        if rel_error > max_rel_error:\n",
    "            return x - step\n",
    "\n",
    "print(\"Order 6:\", max_x_for_order(6))\n",
    "print(\"Order 8:\", max_x_for_order(8))\n",
    "print(\"Order 10:\", max_x_for_order(10))\n",
    "print(\"Order 12:\", max_x_for_order(12))\n",
    "print(\"Order 14:\", max_x_for_order(14))"
   ]
  },
  {
   "cell_type": "code",
   "execution_count": 16,
   "id": "c92dbf4e-a129-4e1e-b276-9df0a40588d9",
   "metadata": {},
   "outputs": [
    {
     "name": "stdout",
     "output_type": "stream",
     "text": [
      "0x3bf0000000000000\n",
      "0x3bd0000000000000\n"
     ]
    }
   ],
   "source": [
    "print(double_to_hex(2**-64))\n",
    "print(double_to_hex(2**-66))"
   ]
  },
  {
   "cell_type": "code",
   "execution_count": null,
   "id": "3284ecf5-455b-4ea0-8f27-800a007a4834",
   "metadata": {},
   "outputs": [],
   "source": []
  }
 ],
 "metadata": {
  "kernelspec": {
   "display_name": "Python 3 (ipykernel)",
   "language": "python",
   "name": "python3"
  },
  "language_info": {
   "codemirror_mode": {
    "name": "ipython",
    "version": 3
   },
   "file_extension": ".py",
   "mimetype": "text/x-python",
   "name": "python",
   "nbconvert_exporter": "python",
   "pygments_lexer": "ipython3",
   "version": "3.12.5"
  }
 },
 "nbformat": 4,
 "nbformat_minor": 5
}
