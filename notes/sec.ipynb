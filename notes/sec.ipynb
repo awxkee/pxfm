{
 "cells": [
  {
   "cell_type": "code",
   "execution_count": 1,
   "id": "d1c368c9-c0f8-4873-b4d3-9d90f741dddd",
   "metadata": {},
   "outputs": [
    {
     "name": "stdout",
     "output_type": "stream",
     "text": [
      "0x3fe0000000000000\n",
      "0x3fcaaaaaaaaaaaab\n",
      "0x3fb5b05b05b05b06\n",
      "0x3fa1965965965966\n",
      "0x3f8c834283cd3723\n",
      "0x3f771c9634451939\n",
      "0x3f62bbcea738201f\n"
     ]
    }
   ],
   "source": [
    "from sage.all import *\n",
    "import struct\n",
    "\n",
    "DR = RealField(53)\n",
    "DD = RealField(190)\n",
    "\n",
    "def float_to_hex(f):\n",
    "    packed = struct.pack('>f', float(f))\n",
    "    return '0x' + packed.hex()\n",
    "\n",
    "\n",
    "def double_to_hex(f):\n",
    "    packed = struct.pack('>d', float(f))\n",
    "    return '0x' + packed.hex()\n",
    "\n",
    "print(double_to_hex(DD(1)/DD(2)))\n",
    "print(double_to_hex(DD(5)/DD(24)))\n",
    "print(double_to_hex(DD(61)/DD(720)))\n",
    "print(double_to_hex(DD(277)/DD(8064)))\n",
    "print(double_to_hex(DD(50521)/DD(3628800)))\n",
    "print(double_to_hex(DD('540553')/DD('95800320')))\n",
    "print(double_to_hex(DD('199360981')/DD('87178291200')))"
   ]
  },
  {
   "cell_type": "code",
   "execution_count": 2,
   "id": "70be4e15-defd-4c5e-b915-4c0cd90a952f",
   "metadata": {},
   "outputs": [
    {
     "name": "stdout",
     "output_type": "stream",
     "text": [
      "Order 6: 0.004\n",
      "Order 8: 0.013000000000000005\n",
      "Order 10: 0.03000000000000002\n",
      "Order 12: 0.05300000000000004\n",
      "Order 14: 0.08100000000000006\n"
     ]
    }
   ],
   "source": [
    "# test max cutoff for direct evaluation\n",
    "from mpmath import mp, sec, taylor, mpf\n",
    "\n",
    "mp.dps = 50 \n",
    "true_sec = lambda x: sec(x)\n",
    "approx_sec = lambda x, n: sum(c * mpf(x)**i for i, c in enumerate(taylor(sec, 0, n+1)))\n",
    "\n",
    "def max_x_for_order(n, max_rel_error=2**-68):\n",
    "    x = 0.0\n",
    "    step = 0.001\n",
    "    while True:\n",
    "        x += step\n",
    "        exact = true_sec(x)\n",
    "        approx = approx_sec(x, n)\n",
    "        rel_error = abs((approx - exact) / exact)\n",
    "        if rel_error > max_rel_error:\n",
    "            return x - step\n",
    "\n",
    "print(\"Order 6:\", max_x_for_order(6))\n",
    "print(\"Order 8:\", max_x_for_order(8))\n",
    "print(\"Order 10:\", max_x_for_order(10))\n",
    "print(\"Order 12:\", max_x_for_order(12))\n",
    "print(\"Order 14:\", max_x_for_order(14))"
   ]
  },
  {
   "cell_type": "code",
   "execution_count": 16,
   "id": "c92dbf4e-a129-4e1e-b276-9df0a40588d9",
   "metadata": {},
   "outputs": [
    {
     "name": "stdout",
     "output_type": "stream",
     "text": [
      "0x3bf0000000000000\n",
      "0x3bd0000000000000\n"
     ]
    }
   ],
   "source": [
    "print(double_to_hex(2**-64))\n",
    "print(double_to_hex(2**-66))"
   ]
  },
  {
   "cell_type": "code",
   "execution_count": 14,
   "id": "3284ecf5-455b-4ea0-8f27-800a007a4834",
   "metadata": {},
   "outputs": [
    {
     "name": "stdout",
     "output_type": "stream",
     "text": [
      "50521/3628800*x^10 + 277/8064*x^8 + 61/720*x^6 + 5/24*x^4 + 1/2*x^2 + 1\n",
      "0.034350198412698416*hi^8 + 0.2748015873015873*hi*lo^7 + 0.034350198412698416*lo^8 + (0.9618055555555556*hi^2 + 0.08472222222222223)*lo^6 + 0.08472222222222223*hi^6 + (1.9236111111111112*hi^3 + 0.5083333333333333*hi)*lo^5 + (2.4045138888888893*hi^4 + 1.2708333333333335*hi^2 + 0.20833333333333334)*lo^4 + 0.20833333333333334*hi^4 + (1.9236111111111112*hi^5 + 1.6944444444444446*hi^3 + 0.8333333333333334*hi)*lo^3 + (0.9618055555555556*hi^6 + 1.2708333333333335*hi^4 + 1.25*hi^2 + 0.5)*lo^2 + 0.5*hi^2 + (0.2748015873015873*hi^7 + 0.5083333333333333*hi^5 + 0.8333333333333334*hi^3 + 1.0*hi)*lo + 1\n"
     ]
    }
   ],
   "source": [
    "x = var('x')\n",
    "f = 1 / cos(x)\n",
    "\n",
    "# Generate Taylor (Maclaurin) series for sec(x) around x=0 up to order 10\n",
    "taylor_series = f.taylor(x, 0, 10)\n",
    "show(taylor_series)\n",
    "\n",
    "hi = var('hi')\n",
    "lo = var('lo')\n",
    "\n",
    "x = hi + lo\n",
    "\n",
    "series = 277/8064*x**8 + 61/720*x**6 + 5/24*x**4 + 1/2*x**2 + 1\n",
    "expanded_series = series.simplify_full()\n",
    "print(expanded_series)\n"
   ]
  },
  {
   "cell_type": "code",
   "execution_count": null,
   "id": "5de9f676-b3e7-4ecf-8522-1350b7a81600",
   "metadata": {},
   "outputs": [],
   "source": []
  }
 ],
 "metadata": {
  "kernelspec": {
   "display_name": "Python 3 (ipykernel)",
   "language": "python",
   "name": "python3"
  },
  "language_info": {
   "codemirror_mode": {
    "name": "ipython",
    "version": 3
   },
   "file_extension": ".py",
   "mimetype": "text/x-python",
   "name": "python",
   "nbconvert_exporter": "python",
   "pygments_lexer": "ipython3",
   "version": "3.12.5"
  }
 },
 "nbformat": 4,
 "nbformat_minor": 5
}
