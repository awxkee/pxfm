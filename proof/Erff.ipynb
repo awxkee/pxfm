{
 "cells": [
  {
   "cell_type": "code",
   "execution_count": 7,
   "id": "faa0eee1-e8a0-43bc-ab88-05ae5c4c4d0f",
   "metadata": {},
   "outputs": [
    {
     "name": "stdout",
     "output_type": "stream",
     "text": [
      "[ 0x3ff20dd750429b6d, 0xbfd812746b037753, 0x3fbce2f219e8596a, 0xbf9b82cdacb78fda, 0x3f756479297dfda5, 0xbf48b3ac5455ef02, 0xbf7126fcac367e3b, 0x3fb2d0bdb3ba4984 ],\n",
      "[ 0x3ff20dd750429b6d, 0xbfd812746b0379a8, 0x3fbce2f21a03cf2a, 0xbf9b82ce30de083e, 0x3f7565bcad3eb60f, 0xbf4c02c66f659256, 0x3f1f92f673385229, 0xbeedef402648ae90 ],\n",
      "[ 0x3ff20dd750429b34, 0xbfd812746b032dce, 0x3fbce2f219d84aae, 0xbf9b82ce22dcf139, 0x3f7565b9efcd4af1, 0xbf4c021f1af414bc, 0x3f1f7c6d177eff82, 0xbeec9e4410dcf865 ],\n",
      "[ 0x3ff20dd750426eab, 0xbfd812746ae592c7, 0x3fbce2f211525f14, 0xbf9b82ccc125e63f, 0x3f756596f261cfd3, 0xbf4bfde1ff8eeecf, 0x3f1f31a9d15dc5d8, 0xbeea5a4362844b3c ],\n",
      "[ 0x3ff20dd75039c705, 0xbfd812746777e74d, 0x3fbce2f17af98a1b, 0xbf9b82be4b817cbe, 0x3f7564bec2e2962e, 0xbf4bee86f9da3558, 0x3f1e9443689dc0cc, 0xbee79c0f230805d8 ],\n",
      "[ 0x3ff20dd74f811211, 0xbfd81274371a3e8f, 0x3fbce2ec038262e5, 0xbf9b8265b82c5e1f, 0x3f75615a2e239267, 0xbf4bc63ae023dceb, 0x3f1d87c2102f7e06, 0xbee49584bea41d62 ],\n",
      "[ 0x3ff20dd746d063e3, 0xbfd812729a8a950f, 0x3fbce2cb0a2df232, 0xbf9b80eca1f51278, 0x3f75572e26c46815, 0xbf4b715e5638b65e, 0x3f1bfbb195484968, 0xbee177a565c15c52 ],\n",
      "[ 0x3ff20dd701b44486, 0xbfd812691145f237, 0x3fbce23a06b8cfd9, 0xbf9b7c1dc7245288, 0x3f753e92f7f397dd, 0xbf4ad97cc4acf0b2, 0x3f19f028b2b09b71, 0xbedcdc4da08da8c1 ],\n",
      "[ 0x3ff20dd5715ac332, 0xbfd8123e680bd0eb, 0x3fbce0457aded691, 0xbf9b6f52d52bed40, 0x3f750c291b84414c, 0xbf49ea246b1ad4a9, 0x3f177654674e0ca0, 0xbed737c11a1bcebb ],\n",
      "[ 0x3ff20dce6593e114, 0xbfd811a59c02eadc, 0x3fbcdab53c7cd7d5, 0xbf9b526d2e321eed, 0x3f74b1d32cd8b994, 0xbf48963143ec0a1e, 0x3f14ad5700e4db91, 0xbed231e100e43ef2 ],\n",
      "[ 0x3ff20db48bfd5a62, 0xbfd80fdd84f9e308, 0x3fbccd340d462983, 0xbf9b196a29287680, 0x3f74210c2c13a0f7, 0xbf46dbdfb4ff71ae, 0x3f11bca2d17fbd71, 0xbecbca36f90c7cf5 ],\n",
      "[ 0x3ff20d64b2f8f508, 0xbfd80b4d4f19fa8b, 0x3fbcb088197262e3, 0xbf9ab51fd02e5b99, 0x3f734e1e5e81a632, 0xbf44c66377b502ce, 0x3f0d9ad25066213c, 0xbec4b0df7dd0cfa1 ],\n",
      "[ 0x3ff20c8fc1243576, 0xbfd8010cb2009e27, 0x3fbc7a47e9299315, 0xbf9a155be5683654, 0x3f7233502694997b, 0xbf426c94b7d81300, 0x3f08094f1de25fb9, 0xbebe0e3d776c6eef ],\n",
      "[ 0x3ff20a9bd1611bc1, 0xbfd7ec7fbce83f90, 0x3fbc1d757d7317b7, 0xbf992c160cd589f0, 0x3f70d307269cc5c2, 0xbf3fda5b0d2d1879, 0x3f02fdd7b3b14a7f, 0xbeb54eed4a26af5a ],\n",
      "[ 0x3ff20682834f943d, 0xbfd7c73f747bf5a9, 0x3fbb8c2db4a9ffd1, 0xbf97f0e4ffe989ec, 0x3f6e7061eae4166e, 0xbf3ad36e873fff2d, 0x3efd39222396128e, 0xbead83dacec5ea6b ],\n",
      "[ 0x3ff1feb8d12676d7, 0xbfd7898347284afe, 0x3fbaba3466b34451, 0xbf9663adc573e2f9, 0x3f6ae99fb17c3e08, 0xbf3602f950ad5535, 0x3ef5e9717490609d, 0xbea3fca107bbc8d5 ],\n",
      "[ 0x3ff1f12fe3c536fa, 0xbfd72b1d1f22e6d3, 0x3fb99fc0eed4a896, 0xbf948db0a87bd8c6, 0x3f673e368895aa61, 0xbf319b35d5301fc8, 0x3ef007987e4bb033, 0xbe9a7edcd4c2dc70 ],\n",
      "[ 0x3ff1db7b0df84d5d, 0xbfd6a4e4a41cde02, 0x3fb83bbded16455d, 0xbf92809b3b36977e, 0x3f639c08bab44679, 0xbf2b7b45a70ed119, 0x3ee6e99b36410e7b, 0xbe913619bb7ebc0c ],\n",
      "[ 0x3ff1bb1c85c4a527, 0xbfd5f23b99a249a3, 0x3fb694c91fa0d12c, 0xbf9053e1ce11c72d, 0x3f602bf72c50ea78, 0xbf24f478fb56cb02, 0x3ee005f80ecbe213, 0xbe85f2446bde7f5b ],\n",
      "[ 0x3ff18dec3bd51f9d, 0xbfd5123f58346186, 0x3fb4b8a1ca536ab4, 0xbf8c4243015cc723, 0x3f5a1a8a01d351ef, 0xbf1f466b34f1d86b, 0x3ed5f835eea0bf6a, 0xbe7b83165b939234 ],\n",
      "[ 0x3ff152804c3369f4, 0xbfd4084cd4afd4bc, 0x3fb2ba2e836e47aa, 0xbf8800f2dfc6904b, 0x3f54a6daf0669c59, 0xbf16e326ab872317, 0x3ecd9761a6a755a5, 0xbe70fca33f9dd4b5 ],\n",
      "[ 0x3ff1087ad68356aa, 0xbfd2dbb044707459, 0x3fb0aea8ceaa0384, 0xbf840b516d52b3d2, 0x3f500c9e05f01d22, 0xbf1076afb0dc0ff7, 0x3ec39fadec400657, 0xbe64b5761352e7e3 ],\n",
      "[ 0x3ff0b0a7a8ba4a22, 0xbfd196990d22d4a1, 0x3fad5551e6ac0c4d, 0xbf807cce1770bd1a, 0x3f4890347b8848bf, 0xbf0757ec96750b6a, 0x3eb9b258a1e06bce, 0xbe58fc6d22da7572 ],\n",
      "[ 0x3ff04ce2be70fb47, 0xbfd0449e4b0b9cac, 0x3fa97f7424f4b0e7, 0xbf7ac825439c42f4, 0x3f428f5f65426dfb, 0xbf005b699a90f90f, 0x3eb0a888eecf4593, 0xbe4deace2b32bb31 ],\n",
      "[ 0x3fefbf9fb0e11cc8, 0xbfcde2640856545a, 0x3fa5f5b1f47f8510, 0xbf7588bc71eb41b9, 0x3f3bc6a0a772f56d, 0xbef6b9fad1f1657a, 0x3ea573204ba66504, 0xbe41d38065c94e44 ],\n",
      "[ 0x3feed8f18c99e031, 0xbfcb4cb6acd903b4, 0x3fa2c7f3dddd6fc1, 0xbf713052067df4e0, 0x3f34a5027444082f, 0xbeef672bab0e2554, 0x3e9b83c756348cc9, 0xbe3534f1a1079499 ],\n",
      "[ 0x3fedebd33044166d, 0xbfc8d7cd9053f7d8, 0x3f9ff9957fb3d6e7, 0xbf6b50be55de0f36, 0x3f2e92c8ec53a628, 0xbee5a4b88d508007, 0x3e91a27737559e26, 0xbe2942ae62cb2c14 ],\n",
      "[ 0x3fecfdbf0386f3bd, 0xbfc68e33d93b0dc4, 0x3f9b2683d58f53de, 0xbf65a9174e70d26f, 0x3f269ddd326d49cd, 0xbeddd8f397a8219c, 0x3e86a755016ad4dd, 0xbe1e366e0139187d ],\n",
      "[ 0x3fec132adb8d7464, 0xbfc475a899f61b46, 0x3f970a431397a77c, 0xbf612e3d35beeee2, 0x3f20c16b05738333, 0xbed4a47f873e144e, 0x3e7d3d494c698c02, 0xbe12302c59547fe5 ],\n",
      "[ 0x3feb2f5fd05555e7, 0xbfc28feefbe03ec7, 0x3f93923acbb3a676, 0xbf5b4ff793cd6358, 0x3f18ea0eb8c913bc, 0xbeccb31ec2baceb1, 0x3e730011e7e80c04, 0xbe0617710635cb1d ],\n",
      "[ 0x3fea54853cd9593e, 0xbfc0dbdbaea4dc8e, 0x3f90a93e2c20a0fd, 0xbf55c969ff401ea8, 0x3f129e0cc64fe627, 0xbec4160d8e9d3c2a, 0x3e68e7b67594624a, 0xbdfb1cf2c975b09b ],\n",
      "[ 0x3fe983ceece09ff8, 0xbfbeacc78f7a2d00, 0x3f8c74418410655f, 0xbf51756a050e441e, 0x3f0bff3650f7f548, 0xbebc56c0217d3ada, 0x3e607b4918d0b489, 0xbdf0d4be8c1c50f8 ],\n"
     ]
    }
   ],
   "source": [
    "import struct\n",
    "\n",
    "data = \"\"\"\n",
    "    {0x1.20dd750429b6dp0, -0x1.812746b037753p-2, 0x1.ce2f219e8596ap-4, -0x1.b82cdacb78fdap-6, 0x1.56479297dfda5p-8, -0x1.8b3ac5455ef02p-11, -0x1.126fcac367e3bp-8, 0x1.2d0bdb3ba4984p-4},\n",
    "    {0x1.20dd750429b6dp0, -0x1.812746b0379a8p-2, 0x1.ce2f21a03cf2ap-4,-0x1.b82ce30de083ep-6, 0x1.565bcad3eb60fp-8, -0x1.c02c66f659256p-11, 0x1.f92f673385229p-14, -0x1.def402648ae9p-17},\n",
    "    {0x1.20dd750429b34p0, -0x1.812746b032dcep-2, 0x1.ce2f219d84aaep-4,-0x1.b82ce22dcf139p-6, 0x1.565b9efcd4af1p-8, -0x1.c021f1af414bcp-11, 0x1.f7c6d177eff82p-14, -0x1.c9e4410dcf865p-17},\n",
    "    {0x1.20dd750426eabp0, -0x1.812746ae592c7p-2, 0x1.ce2f211525f14p-4,-0x1.b82ccc125e63fp-6, 0x1.56596f261cfd3p-8, -0x1.bfde1ff8eeecfp-11, 0x1.f31a9d15dc5d8p-14, -0x1.a5a4362844b3cp-17},\n",
    "    {0x1.20dd75039c705p0, -0x1.812746777e74dp-2, 0x1.ce2f17af98a1bp-4, -0x1.b82be4b817cbep-6, 0x1.564bec2e2962ep-8, -0x1.bee86f9da3558p-11, 0x1.e9443689dc0ccp-14, -0x1.79c0f230805d8p-17},\n",
    "    {0x1.20dd74f811211p0, -0x1.81274371a3e8fp-2, 0x1.ce2ec038262e5p-4,-0x1.b8265b82c5e1fp-6, 0x1.5615a2e239267p-8, -0x1.bc63ae023dcebp-11,  0x1.d87c2102f7e06p-14, -0x1.49584bea41d62p-17},\n",
    "    {0x1.20dd746d063e3p0, -0x1.812729a8a950fp-2, 0x1.ce2cb0a2df232p-4,  -0x1.b80eca1f51278p-6, 0x1.5572e26c46815p-8, -0x1.b715e5638b65ep-11, 0x1.bfbb195484968p-14, -0x1.177a565c15c52p-17},\n",
    "    {0x1.20dd701b44486p0, -0x1.812691145f237p-2, 0x1.ce23a06b8cfd9p-4, -0x1.b7c1dc7245288p-6, 0x1.53e92f7f397ddp-8, -0x1.ad97cc4acf0b2p-11, 0x1.9f028b2b09b71p-14, -0x1.cdc4da08da8c1p-18},\n",
    "    {0x1.20dd5715ac332p0, -0x1.8123e680bd0ebp-2, 0x1.ce0457aded691p-4, -0x1.b6f52d52bed4p-6, 0x1.50c291b84414cp-8, -0x1.9ea246b1ad4a9p-11, 0x1.77654674e0cap-14, -0x1.737c11a1bcebbp-18},\n",
    "    {0x1.20dce6593e114p0, -0x1.811a59c02eadcp-2, 0x1.cdab53c7cd7d5p-4, -0x1.b526d2e321eedp-6, 0x1.4b1d32cd8b994p-8, -0x1.8963143ec0a1ep-11, 0x1.4ad5700e4db91p-14, -0x1.231e100e43ef2p-18},\n",
    "    {0x1.20db48bfd5a62p0, -0x1.80fdd84f9e308p-2, 0x1.ccd340d462983p-4,  -0x1.b196a2928768p-6, 0x1.4210c2c13a0f7p-8, -0x1.6dbdfb4ff71aep-11,  0x1.1bca2d17fbd71p-14, -0x1.bca36f90c7cf5p-19},\n",
    "    {0x1.20d64b2f8f508p0, -0x1.80b4d4f19fa8bp-2, 0x1.cb088197262e3p-4,-0x1.ab51fd02e5b99p-6, 0x1.34e1e5e81a632p-8, -0x1.4c66377b502cep-11,     0x1.d9ad25066213cp-15, -0x1.4b0df7dd0cfa1p-19},\n",
    "    {0x1.20c8fc1243576p0, -0x1.8010cb2009e27p-2, 0x1.c7a47e9299315p-4, -0x1.a155be5683654p-6, 0x1.233502694997bp-8, -0x1.26c94b7d813p-11, 0x1.8094f1de25fb9p-15, -0x1.e0e3d776c6eefp-20},\n",
    "    {0x1.20a9bd1611bc1p0, -0x1.7ec7fbce83f9p-2, 0x1.c1d757d7317b7p-4, -0x1.92c160cd589fp-6, 0x1.0d307269cc5c2p-8, -0x1.fda5b0d2d1879p-12, 0x1.2fdd7b3b14a7fp-15, -0x1.54eed4a26af5ap-20},\n",
    "    {0x1.20682834f943dp0, -0x1.7c73f747bf5a9p-2, 0x1.b8c2db4a9ffd1p-4, -0x1.7f0e4ffe989ecp-6, 0x1.e7061eae4166ep-9, -0x1.ad36e873fff2dp-12, 0x1.d39222396128ep-16, -0x1.d83dacec5ea6bp-21},\n",
    "    {0x1.1feb8d12676d7p0, -0x1.7898347284afep-2, 0x1.aba3466b34451p-4, -0x1.663adc573e2f9p-6, 0x1.ae99fb17c3e08p-9, -0x1.602f950ad5535p-12, 0x1.5e9717490609dp-16, -0x1.3fca107bbc8d5p-21},\n",
    "    {0x1.1f12fe3c536fap0, -0x1.72b1d1f22e6d3p-2, 0x1.99fc0eed4a896p-4, -0x1.48db0a87bd8c6p-6, 0x1.73e368895aa61p-9, -0x1.19b35d5301fc8p-12, 0x1.007987e4bb033p-16, -0x1.a7edcd4c2dc7p-22},\n",
    "    {0x1.1db7b0df84d5dp0, -0x1.6a4e4a41cde02p-2, 0x1.83bbded16455dp-4, -0x1.2809b3b36977ep-6, 0x1.39c08bab44679p-9, -0x1.b7b45a70ed119p-13, 0x1.6e99b36410e7bp-17, -0x1.13619bb7ebc0cp-22},\n",
    "    {0x1.1bb1c85c4a527p0, -0x1.5f23b99a249a3p-2, 0x1.694c91fa0d12cp-4,  -0x1.053e1ce11c72dp-6, 0x1.02bf72c50ea78p-9, -0x1.4f478fb56cb02p-13, 0x1.005f80ecbe213p-17, -0x1.5f2446bde7f5bp-23},\n",
    "    {0x1.18dec3bd51f9dp0, -0x1.5123f58346186p-2, 0x1.4b8a1ca536ab4p-4, -0x1.c4243015cc723p-7, 0x1.a1a8a01d351efp-10, -0x1.f466b34f1d86bp-14, 0x1.5f835eea0bf6ap-18, -0x1.b83165b939234p-24},\n",
    "    {0x1.152804c3369f4p0, -0x1.4084cd4afd4bcp-2, 0x1.2ba2e836e47aap-4,-0x1.800f2dfc6904bp-7, 0x1.4a6daf0669c59p-10, -0x1.6e326ab872317p-14, 0x1.d9761a6a755a5p-19, -0x1.0fca33f9dd4b5p-24},\n",
    "    {0x1.1087ad68356aap0, -0x1.2dbb044707459p-2, 0x1.0aea8ceaa0384p-4, -0x1.40b516d52b3d2p-7, 0x1.00c9e05f01d22p-10, -0x1.076afb0dc0ff7p-14, 0x1.39fadec400657p-19, -0x1.4b5761352e7e3p-25},\n",
    "    {0x1.0b0a7a8ba4a22p0, -0x1.196990d22d4a1p-2, 0x1.d5551e6ac0c4dp-5, -0x1.07cce1770bd1ap-7, 0x1.890347b8848bfp-11, -0x1.757ec96750b6ap-15, 0x1.9b258a1e06bcep-20, -0x1.8fc6d22da7572p-26},\n",
    "    {0x1.04ce2be70fb47p0, -0x1.0449e4b0b9cacp-2, 0x1.97f7424f4b0e7p-5,-0x1.ac825439c42f4p-8, 0x1.28f5f65426dfbp-11, -0x1.05b699a90f90fp-15, 0x1.0a888eecf4593p-20, -0x1.deace2b32bb31p-27},\n",
    "    {0x1.fbf9fb0e11cc8p-1, -0x1.de2640856545ap-3, 0x1.5f5b1f47f851p-5, -0x1.588bc71eb41b9p-8, 0x1.bc6a0a772f56dp-12, -0x1.6b9fad1f1657ap-16, 0x1.573204ba66504p-21, -0x1.1d38065c94e44p-27},\n",
    "    {0x1.ed8f18c99e031p-1, -0x1.b4cb6acd903b4p-3, 0x1.2c7f3dddd6fc1p-5, -0x1.13052067df4ep-8, 0x1.4a5027444082fp-12, -0x1.f672bab0e2554p-17,  0x1.b83c756348cc9p-22, -0x1.534f1a1079499p-28},\n",
    "    {0x1.debd33044166dp-1, -0x1.8d7cd9053f7d8p-3, 0x1.ff9957fb3d6e7p-6,-0x1.b50be55de0f36p-9, 0x1.e92c8ec53a628p-13, -0x1.5a4b88d508007p-17, 0x1.1a27737559e26p-22, -0x1.942ae62cb2c14p-29},\n",
    "    {0x1.cfdbf0386f3bdp-1, -0x1.68e33d93b0dc4p-3, 0x1.b2683d58f53dep-6,-0x1.5a9174e70d26fp-9, 0x1.69ddd326d49cdp-13, -0x1.dd8f397a8219cp-18, 0x1.6a755016ad4ddp-23, -0x1.e366e0139187dp-30},\n",
    "    {0x1.c132adb8d7464p-1, -0x1.475a899f61b46p-3, 0x1.70a431397a77cp-6, -0x1.12e3d35beeee2p-9, 0x1.0c16b05738333p-13, -0x1.4a47f873e144ep-18, 0x1.d3d494c698c02p-24, -0x1.2302c59547fe5p-30},\n",
    "    {0x1.b2f5fd05555e7p-1, -0x1.28feefbe03ec7p-3, 0x1.3923acbb3a676p-6, -0x1.b4ff793cd6358p-10, 0x1.8ea0eb8c913bcp-14, -0x1.cb31ec2baceb1p-19, 0x1.30011e7e80c04p-24, -0x1.617710635cb1dp-31},\n",
    "    {0x1.a54853cd9593ep-1, -0x1.0dbdbaea4dc8ep-3, 0x1.0a93e2c20a0fdp-6,-0x1.5c969ff401ea8p-10, 0x1.29e0cc64fe627p-14, -0x1.4160d8e9d3c2ap-19, 0x1.8e7b67594624ap-25, -0x1.b1cf2c975b09bp-32},\n",
    "    {0x1.983ceece09ff8p-1, -0x1.eacc78f7a2dp-4, 0x1.c74418410655fp-7, -0x1.1756a050e441ep-10, 0x1.bff3650f7f548p-15, -0x1.c56c0217d3adap-20, 0x1.07b4918d0b489p-25, -0x1.0d4be8c1c50f8p-32},\n",
    "\"\"\"\n",
    "\n",
    "def hexfloat_to_u64(s):\n",
    "    val = float.fromhex(s)\n",
    "    bits = struct.unpack(\">Q\", struct.pack(\">d\", val))[0]\n",
    "    return f\"0x{bits:016x}\"\n",
    "\n",
    "# Process each line and token\n",
    "for line in data.strip().splitlines():\n",
    "    floats = line.strip(\"{}, \\n\").split(\",\")\n",
    "    encoded = [hexfloat_to_u64(x.strip()) for x in floats]\n",
    "    print(f\"[ {', '.join(encoded)} ],\")"
   ]
  },
  {
   "cell_type": "code",
   "execution_count": null,
   "id": "a0e30250-4d25-4955-b788-e7455f50056e",
   "metadata": {},
   "outputs": [],
   "source": []
  }
 ],
 "metadata": {
  "kernelspec": {
   "display_name": "Python 3 (ipykernel)",
   "language": "python",
   "name": "python3"
  },
  "language_info": {
   "codemirror_mode": {
    "name": "ipython",
    "version": 3
   },
   "file_extension": ".py",
   "mimetype": "text/x-python",
   "name": "python",
   "nbconvert_exporter": "python",
   "pygments_lexer": "ipython3",
   "version": "3.12.5"
  }
 },
 "nbformat": 4,
 "nbformat_minor": 5
}
