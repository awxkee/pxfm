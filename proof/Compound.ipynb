{
 "cells": [
  {
   "cell_type": "code",
   "execution_count": 8,
   "id": "38d0650c-7644-42b4-8b35-1ad821557646",
   "metadata": {},
   "outputs": [
    {
     "name": "stdout",
     "output_type": "stream",
     "text": [
      "602.8962941685516557086407733381\n",
      "602.8962941685516557085641742297\n",
      "6.831777557933481822014368385954e261\n",
      "6.831777557933481821491060316726e261\n"
     ]
    }
   ],
   "source": [
    "from sage.all import *\n",
    "\n",
    "D = RealField(107)\n",
    "x = D(RealField(53)(4.8340606765775105)) + D(RealField(53)(-0.000013460237612970659))\n",
    "\n",
    "mult = D(124.71874336077235) * x\n",
    "print(mult)\n",
    "\n",
    "s = D(RealField(53)(602.89797291247203)) + D(RealField(53)(-0.0016787439203722202))\n",
    "print(s)\n",
    "\n",
    "l0 = exp(mult)\n",
    "print(l0)\n",
    "\n",
    "l1 = exp(s)\n",
    "print(l1)"
   ]
  },
  {
   "cell_type": "code",
   "execution_count": 8,
   "id": "10b712ae-2146-40ef-996f-862dbc4d3a86",
   "metadata": {},
   "outputs": [
    {
     "name": "stdout",
     "output_type": "stream",
     "text": [
      "0x3ff0000000000000, 0x3fe0000000000000, 0x3fc5555555555555, 0x3fa5555555555555, 0x3f81111125f3a235, 0x3f56c16c3fea7746\n"
     ]
    }
   ],
   "source": [
    "import struct\n",
    "\n",
    "# Example array of big floats in SageMath\n",
    "bigfloats = [1,\n",
    "0.5,\n",
    "0.166666666666666657414808128123695496469736099243164,\n",
    "4.1666666666666664353702032030923874117434024810791e-2,\n",
    "8.333333941167623062917790832671016687527298927307e-3,\n",
    "1.38888903862928589014180680294430203502997756004333e-3]\n",
    "\n",
    "def double_to_hex(f):\n",
    "    # Convert float to IEEE 754 double hex representation\n",
    "    packed = struct.pack('>d', float(f))  # big-endian double\n",
    "    return '0x' + packed.hex()\n",
    "\n",
    "hex_array = [double_to_hex(RR(x)) for x in bigfloats]\n",
    "\n",
    "print(\", \".join(hex_array))\n"
   ]
  },
  {
   "cell_type": "code",
   "execution_count": 15,
   "id": "1ef374e7-9c2e-462c-863d-9516fd2549fe",
   "metadata": {},
   "outputs": [
    {
     "name": "stdout",
     "output_type": "stream",
     "text": [
      "0x0000000000000000, 0x3ff0000000000000, 0x0000000000000000, 0x3fe0000000000000, 0xbc75555554d7c48c, 0x3fc5555555555556, 0xbc555a40ffb472d9, 0x3fa5555555555556, 0x3c24866314c38093, 0x3f8111111111110e, 0x3be34665978dddb8, 0x3f56c16c16efac90, 0x3baeab43b813ef24, 0x3f2a01a1e12d253c\n"
     ]
    }
   ],
   "source": [
    "import struct\n",
    "from sage.all import *\n",
    "\n",
    "R = RealField(52)\n",
    "\n",
    "def double_to_hex(f):\n",
    "    # Converts Python float (f64) to hex string\n",
    "    packed = struct.pack('>d', float(f))\n",
    "    return '0x' + packed.hex()\n",
    "\n",
    "def split_double_double(x):\n",
    "    # Split RR value x into hi + lo (double-double)\n",
    "    x_hi = R(x)  # convert to f64\n",
    "    x_lo = x - DD(x_hi)\n",
    "    return (x_lo,x_hi)\n",
    "\n",
    "DD = RealField(120)\n",
    "\n",
    "# Input RR array (high precision)\n",
    "bigfloats = [\n",
    "'1',\n",
    "'0.5',\n",
    "'0.1666666666666666666666666920244320103236220813974',\n",
    "'4.1666666666666666662498783101252547699244368399925e-2',\n",
    "'8.333333333333328569844540766243322226522453628297e-3',\n",
    "'1.3888888895461672428180944843241147758159336249311e-3',\n",
    "'1.9841290540005020766997518579356798375329483280106e-4',\n",
    "]\n",
    "\n",
    "# Split first 4 as DD pairs\n",
    "dd_pairs = [split_double_double(DD(x)) for x in bigfloats]\n",
    "\n",
    "# Convert to hex\n",
    "hex_pairs = [(double_to_hex(hi), double_to_hex(lo)) for hi, lo in dd_pairs]\n",
    "\n",
    "# Print as flat list\n",
    "flat_hex = [x for pair in hex_pairs for x in pair]\n",
    "print(\", \".join(flat_hex))"
   ]
  },
  {
   "cell_type": "code",
   "execution_count": 14,
   "id": "e1149a60-2bf0-46c9-91c0-3407d2ea403b",
   "metadata": {},
   "outputs": [
    {
     "name": "stdout",
     "output_type": "stream",
     "text": [
      "1*x + (-1/2)*x^2 + 1/3*x^3 + (-1/4)*x^4 + 1/5*x^5 + (-1/6)*x^6 + 1/7*x^7 + (-1/8)*x^8 + 1/9*x^9 + (-1/10)*x^10 + 1/11*x^11 + (-1/12)*x^12 + Order(x^13)\n",
      "\n",
      "Coefficients:\n",
      "(0x0000000000000000, 0x3ff0000000000000),\n",
      "(0x0000000000000000, 0xbfe0000000000000),\n",
      "(0xbc85555555555555, 0x3fd5555555555556),\n",
      "(0x0000000000000000, 0xbfd0000000000000),\n",
      "(0xbc6999999999999a, 0x3fc999999999999a),\n",
      "(0x3c75555555555555, 0xbfc5555555555556),\n",
      "(0x3c62492492492492, 0x3fc2492492492492),\n",
      "(0x0000000000000000, 0xbfc0000000000000),\n",
      "(0x3c5c71c71c71c71c, 0x3fbc71c71c71c71c),\n",
      "(0x3c5999999999999a, 0xbfb999999999999a),\n",
      "(0xbc4745d1745d1746, 0x3fb745d1745d1746),\n",
      "(0x3c65555555555555, 0xbfb5555555555556),\n"
     ]
    }
   ],
   "source": [
    "var('x')\n",
    "f = log(1 + x)\n",
    "t = f.series(x == 0, 13)  # up to x^9 (9 terms)\n",
    "print(t)\n",
    "\n",
    "print(\"\\nCoefficients:\")\n",
    "for i in range(1, 13):  # log(1+x) has no constant term\n",
    "    coeff = t.coefficient(x**i)\n",
    "    k = split_double_double(DD(coeff))\n",
    "    hi = double_to_hex(k[1])\n",
    "    lo = double_to_hex(k[0])\n",
    "    print(f\"({lo}, {hi}),\")\n",
    "    # print(f\"x^{i}: {coeff}\")"
   ]
  },
  {
   "cell_type": "code",
   "execution_count": null,
   "id": "8c1dbf7c-c181-4184-9a6d-2ba3fac152e6",
   "metadata": {},
   "outputs": [],
   "source": []
  }
 ],
 "metadata": {
  "kernelspec": {
   "display_name": "Python 3 (ipykernel)",
   "language": "python",
   "name": "python3"
  },
  "language_info": {
   "codemirror_mode": {
    "name": "ipython",
    "version": 3
   },
   "file_extension": ".py",
   "mimetype": "text/x-python",
   "name": "python",
   "nbconvert_exporter": "python",
   "pygments_lexer": "ipython3",
   "version": "3.12.5"
  }
 },
 "nbformat": 4,
 "nbformat_minor": 5
}
