{
 "cells": [
  {
   "cell_type": "code",
   "execution_count": 27,
   "id": "38d0650c-7644-42b4-8b35-1ad821557646",
   "metadata": {},
   "outputs": [
    {
     "name": "stdout",
     "output_type": "stream",
     "text": [
      "0.0000000000000000000000000000000\n"
     ]
    }
   ],
   "source": [
    "from sage.all import *\n",
    "\n",
    "D = RealField(107)\n",
    "\n",
    "x = ' 0.000000000000000000000000000000000000000000000000000000000000000000000000000000000000000000000000000000000000000000000000000000000000000000000000000000000000000000000000000000000000000000000000000000000000000000000000000000000000000000000000000000000000000000000000000000000000000000000000000000000000000000001385238935232585'\n",
    "y = ' -24221239511203993000000000000000000000000000000000000000000000000000000000000000000000000000000000000000000000000000000000000000000000000000000000000000000000000000000000000000000000000000000000000000000000000000000000000000000000000000000000000000000000000000000000000000000000000000000000000000000000000000'\n",
    "\n",
    "x0 = D(x)\n",
    "y0 = D(y)\n",
    "x0p1 = x0 + D(1)\n",
    "x0p1ln = x0p1.log()\n",
    "x0p1ln_y0 = y0\n",
    "\n",
    "z = x0p1ln_y0.exp()\n",
    "\n",
    "print(z)\n"
   ]
  },
  {
   "cell_type": "code",
   "execution_count": 8,
   "id": "10b712ae-2146-40ef-996f-862dbc4d3a86",
   "metadata": {},
   "outputs": [
    {
     "name": "stdout",
     "output_type": "stream",
     "text": [
      "0x3ff0000000000000, 0x3fe0000000000000, 0x3fc5555555555555, 0x3fa5555555555555, 0x3f81111125f3a235, 0x3f56c16c3fea7746\n"
     ]
    }
   ],
   "source": [
    "import struct\n",
    "\n",
    "# Example array of big floats in SageMath\n",
    "bigfloats = [1,\n",
    "0.5,\n",
    "0.166666666666666657414808128123695496469736099243164,\n",
    "4.1666666666666664353702032030923874117434024810791e-2,\n",
    "8.333333941167623062917790832671016687527298927307e-3,\n",
    "1.38888903862928589014180680294430203502997756004333e-3]\n",
    "\n",
    "def double_to_hex(f):\n",
    "    # Convert float to IEEE 754 double hex representation\n",
    "    packed = struct.pack('>d', float(f))  # big-endian double\n",
    "    return '0x' + packed.hex()\n",
    "\n",
    "hex_array = [double_to_hex(RR(x)) for x in bigfloats]\n",
    "\n",
    "print(\", \".join(hex_array))\n"
   ]
  },
  {
   "cell_type": "code",
   "execution_count": 19,
   "id": "1ef374e7-9c2e-462c-863d-9516fd2549fe",
   "metadata": {},
   "outputs": [
    {
     "name": "stdout",
     "output_type": "stream",
     "text": [
      "0x0000000000000000, 0x3ff0000000000000, 0x3a20e40000000000, 0x3ff0000000000000, 0x3a04820000000000, 0x3fe0000000000000, 0xbc756423c5338a66, 0x3fc5555555555556, 0xbc5560f74db5556c, 0x3fa5555555555556, 0x3c3648eca89bc6ac, 0x3f8111111144fbee, 0xbbd53d924ae90c8c, 0x3f56c16c16ffeecc\n",
      "0x400921fb54442d18\n",
      "0x3ca1a62633145c07\n"
     ]
    }
   ],
   "source": [
    "import struct\n",
    "from sage.all import *\n",
    "\n",
    "R = RealField(52)\n",
    "\n",
    "def double_to_hex(f):\n",
    "    # Converts Python float (f64) to hex string\n",
    "    packed = struct.pack('>d', float(f))\n",
    "    return '0x' + packed.hex()\n",
    "\n",
    "def split_double_double(x):\n",
    "    # Split RR value x into hi + lo (double-double)\n",
    "    x_hi = R(x)  # convert to f64\n",
    "    x_lo = x - DD(x_hi)\n",
    "    return (x_lo,x_hi)\n",
    "\n",
    "DD = RealField(120)\n",
    "\n",
    "# Input RR array (high precision)\n",
    "bigfloats = [\n",
    "'1',\n",
    "'1.00000000000000000000000000010659482981798922020626',\n",
    "'0.50000000000000000000000000003235562306570556233134',\n",
    "'0.16666666666666666661650065088154907094781865583483',\n",
    "'4.1666666666666666656813389760732706689332161864754e-2',\n",
    "'8.333333339235663398545366857448291597622040747153e-3',\n",
    "'1.38888888977721761402414540629642690134205558400704e-3',\n",
    "]\n",
    "\n",
    "# Split first 4 as DD pairs\n",
    "dd_pairs = [split_double_double(DD(x)) for x in bigfloats]\n",
    "\n",
    "# Convert to hex\n",
    "hex_pairs = [(double_to_hex(hi), double_to_hex(lo)) for hi, lo in dd_pairs]\n",
    "\n",
    "# Print as flat list\n",
    "flat_hex = [x for pair in hex_pairs for x in pair]\n",
    "print(\", \".join(flat_hex))\n",
    "\n",
    "d_pi = split_double_double(DD.pi())\n",
    "pi_hi = double_to_hex(d_pi[1])\n",
    "pi_lo = double_to_hex(d_pi[0])\n",
    "print(pi_hi)\n",
    "print(pi_lo)"
   ]
  },
  {
   "cell_type": "code",
   "execution_count": 21,
   "id": "e1149a60-2bf0-46c9-91c0-3407d2ea403b",
   "metadata": {},
   "outputs": [
    {
     "name": "stdout",
     "output_type": "stream",
     "text": [
      "1*x + (-1/2)*x^2 + 1/3*x^3 + (-1/4)*x^4 + 1/5*x^5 + (-1/6)*x^6 + 1/7*x^7 + Order(x^8)\n",
      "\n",
      "Coefficients:\n",
      "(0x0000000000000000, 0x3ff0000000000000),\n",
      "(0x0000000000000000, 0xbfe0000000000000),\n",
      "(0xbc85555555555555, 0x3fd5555555555556),\n",
      "(0x0000000000000000, 0xbfd0000000000000),\n",
      "(0xbc6999999999999a, 0x3fc999999999999a),\n",
      "(0x3c75555555555555, 0xbfc5555555555556),\n",
      "(0x3c62492492492492, 0x3fc2492492492492),\n",
      "\n",
      "Coefficients double:\n",
      "(0x3ff0000000000000),\n",
      "(0xbfe0000000000000),\n",
      "(0x3fd5555555555556),\n",
      "(0xbfd0000000000000),\n",
      "(0x3fc999999999999a),\n",
      "(0xbfc5555555555556),\n",
      "(0x3fc2492492492492),\n"
     ]
    }
   ],
   "source": [
    "var('x')\n",
    "f = log(1 + x)\n",
    "t = f.series(x == 0, 8)  # up to x^9 (9 terms)\n",
    "print(t)\n",
    "\n",
    "print(\"\\nCoefficients:\")\n",
    "for i in range(1, 8):  # log(1+x) has no constant term\n",
    "    coeff = t.coefficient(x**i)\n",
    "    k = split_double_double(DD(coeff))\n",
    "    hi = double_to_hex(k[1])\n",
    "    lo = double_to_hex(k[0])\n",
    "    print(f\"({lo}, {hi}),\")\n",
    "    # print(f\"x^{i}: {coeff}\")\n",
    "\n",
    "print(\"\\nCoefficients double:\")\n",
    "for i in range(1, 8):  # log(1+x) has no constant term\n",
    "    coeff = t.coefficient(x**i)\n",
    "    k = split_double_double(DD(coeff))\n",
    "    hi = double_to_hex(k[1])\n",
    "    print(f\"({hi}),\")\n",
    "    # print(f\"x^{i}: {coeff}\")"
   ]
  },
  {
   "cell_type": "code",
   "execution_count": null,
   "id": "8c1dbf7c-c181-4184-9a6d-2ba3fac152e6",
   "metadata": {},
   "outputs": [],
   "source": []
  }
 ],
 "metadata": {
  "kernelspec": {
   "display_name": "Python 3 (ipykernel)",
   "language": "python",
   "name": "python3"
  },
  "language_info": {
   "codemirror_mode": {
    "name": "ipython",
    "version": 3
   },
   "file_extension": ".py",
   "mimetype": "text/x-python",
   "name": "python",
   "nbconvert_exporter": "python",
   "pygments_lexer": "ipython3",
   "version": "3.12.5"
  }
 },
 "nbformat": 4,
 "nbformat_minor": 5
}
